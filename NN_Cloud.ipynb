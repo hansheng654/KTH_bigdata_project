{
 "cells": [
  {
   "cell_type": "code",
   "execution_count": 5,
   "metadata": {},
   "outputs": [],
   "source": [
    "import tensorflow as tf\n",
    "import numpy as np\n",
    "from data_input import get_sparse_data\n",
    "from keras.models import Sequential\n",
    "from keras.layers import Dense, Activation,Dropout\n",
    "from keras.utils import to_categorical\n",
    "from classifiers import check_acc\n",
    "from keras import regularizers\n",
    "\n",
    "[y_train,X_raw_train,X_train_sparse],[y_val,X_raw_val,X_val_sparse],[y_test,X_raw_test,X_test_sparse] = get_sparse_data(max_df= 0.996,min_df= 0.001)\n",
    "\n",
    "#convert -1 into 2\n",
    "y_train = [2 if x==-1 else x for x in y_train]\n",
    "y_test = [2 if x==-1 else x for x in y_test]\n",
    "y_val = [2 if x==-1 else x for x in y_val]\n",
    "#convert into one hot\n",
    "y_train_hot = to_categorical(y_train)\n",
    "y_test_hot = to_categorical(y_test)\n",
    "y_val_hot = to_categorical(y_val)\n",
    "\n",
    "input_shape = X_train_sparse.get_shape()"
   ]
  },
  {
   "cell_type": "code",
   "execution_count": 19,
   "metadata": {},
   "outputs": [
    {
     "name": "stdout",
     "output_type": "stream",
     "text": [
      "Train on 14221 samples, validate on 7110 samples\n",
      "Epoch 1/6\n",
      "14221/14221 [==============================] - 1s - loss: 1.0899 - acc: 0.3969 - val_loss: 1.0792 - val_acc: 0.4135\n",
      "Epoch 2/6\n",
      "14221/14221 [==============================] - 0s - loss: 1.0723 - acc: 0.4103 - val_loss: 1.0593 - val_acc: 0.4135\n",
      "Epoch 3/6\n",
      "14221/14221 [==============================] - 0s - loss: 1.0315 - acc: 0.4106 - val_loss: 0.9957 - val_acc: 0.4204\n",
      "Epoch 4/6\n",
      "14221/14221 [==============================] - 0s - loss: 0.9398 - acc: 0.5285 - val_loss: 0.9170 - val_acc: 0.5994\n",
      "Epoch 5/6\n",
      "14221/14221 [==============================] - 0s - loss: 0.8400 - acc: 0.6449 - val_loss: 0.8756 - val_acc: 0.6100\n",
      "Epoch 6/6\n",
      "14221/14221 [==============================] - 0s - loss: 0.7565 - acc: 0.6769 - val_loss: 0.8730 - val_acc: 0.6121\n"
     ]
    }
   ],
   "source": [
    "reg = regularizers.l1(0)\n",
    "\n",
    "model = Sequential()\n",
    "model.add(Dense(256, activation='relu', input_dim=input_shape[1],\n",
    "                activity_regularizer= reg,\n",
    "                kernel_regularizer=reg))\n",
    "model.add(Dropout(0.5))\n",
    "model.add(Dense(256, activation='relu', input_dim=512,\n",
    "                activity_regularizer= reg,\n",
    "                kernel_regularizer=reg))\n",
    "model.add(Dropout(0.5))\n",
    "model.add(Dense(128, activation='relu', input_dim=128,\n",
    "                activity_regularizer= reg,\n",
    "                kernel_regularizer=reg))\n",
    "model.add(Dropout(0.5))\n",
    "model.add(Dense(3, activation='sigmoid'))\n",
    "\n",
    "model.compile(optimizer='adam',\n",
    "              loss='categorical_crossentropy',\n",
    "              metrics=['accuracy']\n",
    "              )\n",
    "\n",
    "\n",
    "# Train the model, iterating on the data in batches of 32 samples\n",
    "hist = model.fit(X_train_sparse.toarray(), y_train_hot, epochs=6,\n",
    "          validation_data=(X_val_sparse.toarray(),y_val_hot),\n",
    "          batch_size= 1024,shuffle = True\n",
    "          ) "
   ]
  },
  {
   "cell_type": "code",
   "execution_count": 21,
   "metadata": {},
   "outputs": [
    {
     "name": "stdout",
     "output_type": "stream",
     "text": [
      "60.5396290051\n"
     ]
    }
   ],
   "source": [
    "classes = model.predict(X_test_sparse.toarray())\n",
    "result = np.argmax(classes,axis=1)\n",
    "acc = np.mean(result == y_test) *100.\n",
    "print(acc)"
   ]
  }
 ],
 "metadata": {
  "kernelspec": {
   "display_name": "Python 3",
   "language": "python",
   "name": "python3"
  },
  "language_info": {
   "codemirror_mode": {
    "name": "ipython",
    "version": 3
   },
   "file_extension": ".py",
   "mimetype": "text/x-python",
   "name": "python",
   "nbconvert_exporter": "python",
   "pygments_lexer": "ipython3",
   "version": "3.6.2"
  }
 },
 "nbformat": 4,
 "nbformat_minor": 2
}
