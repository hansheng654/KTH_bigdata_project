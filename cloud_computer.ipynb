{
 "cells": [
  {
   "cell_type": "code",
   "execution_count": 2,
   "metadata": {
    "collapsed": true
   },
   "outputs": [],
   "source": [
    "from data_input import get_sparse_data\n",
    "from sklearn.naive_bayes import BernoulliNB\n",
    "from sklearn.naive_bayes import MultinomialNB\n",
    "from sklearn.linear_model import SGDClassifier\n",
    "from sklearn.model_selection import GridSearchCV\n",
    "from sklearn.model_selection import RandomizedSearchCV\n",
    "from sklearn.svm import LinearSVC, SVC\n",
    "import numpy as np\n",
    "import scipy"
   ]
  },
  {
   "cell_type": "code",
   "execution_count": 4,
   "metadata": {
    "collapsed": true
   },
   "outputs": [],
   "source": [
    "[y_train,X_raw_train,X_train_sparse],[y_val,X_raw_val,X_val_sparse],[y_test,X_raw_test,X_test_sparse] = get_sparse_data()"
   ]
  },
  {
   "cell_type": "code",
   "execution_count": 5,
   "metadata": {
    "collapsed": true
   },
   "outputs": [],
   "source": [
    "def check_acc(trained_clf,clf_name,val_acc = False):\n",
    "    #print training and testing acc automatically \n",
    "    #training acc\n",
    "    result_sk = trained_clf.predict(X_train_sparse)\n",
    "    \n",
    "    true_label =np.array(list(map(int,y_train)))\n",
    "    result_sk = np.array(list(map(int,result_sk)))\n",
    "    acc = np.mean(result_sk == true_label) *100.\n",
    "    print(\"Training Accuracy, %s with tf-idf: %.2f%%\" % (clf_name,acc))\n",
    "    \n",
    "    #val acc\n",
    "    if val_acc:\n",
    "        result_sk = trained_clf.predict(X_val_sparse)\n",
    "    \n",
    "        true_label =np.array(list(map(int,y_val)))\n",
    "        result_sk = np.array(list(map(int,result_sk)))\n",
    "        acc = np.mean(result_sk == true_label) *100.\n",
    "        print(\"Validation Accuracy, %s with tf-idf: %.2f%%\" % (clf_name,acc))\n",
    "    \n",
    "    \n",
    "    #testing acc\n",
    "    result_sk = text_clf.predict(X_test_sparse)\n",
    "    \n",
    "    \n",
    "    true_label =np.array(list(map(int,y_test)))\n",
    "    result_sk = np.array(list(map(int,result_sk)))\n",
    "    acc = np.mean(result_sk == true_label) *100.\n",
    "    print(\"Testing Accuracy, %s with tf-idf: %.2f%%\" % (clf_name,acc))"
   ]
  },
  {
   "cell_type": "code",
   "execution_count": null,
   "metadata": {
    "collapsed": true
   },
   "outputs": [],
   "source": [
    "text_clf = SVC(C=19.41539, kernel='rbf', degree=2, gamma=1.2168)\n",
    "text_clf.fit(X_train_sparse,y_train)\n",
    "check_acc(text_clf,\"SGD\",True)\n",
    "\n",
    "parameters = {\n",
    "               'C':scipy.stats.expon(scale=10),\n",
    "#               'degree':(2,3,4),\n",
    "               'gamma':scipy.stats.expon(scale=10)\n",
    "               }\n",
    "gs_clf = RandomizedSearchCV(text_clf,parameters,n_jobs=-1,n_iter =1)\n",
    "gs_clf = gs_clf.fit(X_val_sparse,y_val)\n",
    "print(\"best Score: \",gs_clf.best_score_)\n",
    "print(\"best_params: \",gs_clf.best_params_)\n"
   ]
  }
 ],
 "metadata": {
  "kernelspec": {
   "display_name": "Python 3",
   "language": "python",
   "name": "python3"
  },
  "language_info": {
   "codemirror_mode": {
    "name": "ipython",
    "version": 3
   },
   "file_extension": ".py",
   "mimetype": "text/x-python",
   "name": "python",
   "nbconvert_exporter": "python",
   "pygments_lexer": "ipython3",
   "version": "3.6.0"
  }
 },
 "nbformat": 4,
 "nbformat_minor": 2
}
